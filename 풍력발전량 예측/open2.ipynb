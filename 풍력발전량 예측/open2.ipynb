{
 "cells": [
  {
   "cell_type": "code",
   "execution_count": 113,
   "id": "363bbdbb",
   "metadata": {},
   "outputs": [
    {
     "name": "stdout",
     "output_type": "stream",
     "text": [
      "Requirement already satisfied: lightgbm in /Users/minjeekim/opt/anaconda3/lib/python3.9/site-packages (3.3.5)\n",
      "Requirement already satisfied: scikit-learn!=0.22.0 in /Users/minjeekim/opt/anaconda3/lib/python3.9/site-packages (from lightgbm) (1.0.2)\n",
      "Requirement already satisfied: numpy in /Users/minjeekim/opt/anaconda3/lib/python3.9/site-packages (from lightgbm) (1.21.5)\n",
      "Requirement already satisfied: scipy in /Users/minjeekim/opt/anaconda3/lib/python3.9/site-packages (from lightgbm) (1.9.1)\n",
      "Requirement already satisfied: wheel in /Users/minjeekim/opt/anaconda3/lib/python3.9/site-packages (from lightgbm) (0.37.1)\n",
      "Requirement already satisfied: joblib>=0.11 in /Users/minjeekim/opt/anaconda3/lib/python3.9/site-packages (from scikit-learn!=0.22.0->lightgbm) (1.1.0)\n",
      "Requirement already satisfied: threadpoolctl>=2.0.0 in /Users/minjeekim/opt/anaconda3/lib/python3.9/site-packages (from scikit-learn!=0.22.0->lightgbm) (2.2.0)\n"
     ]
    }
   ],
   "source": [
    "! pip3 install lightgbm"
   ]
  },
  {
   "cell_type": "code",
   "execution_count": 120,
   "id": "60b5a3d8",
   "metadata": {},
   "outputs": [],
   "source": [
    "import pandas as pd\n",
    "import matplotlib.pyplot as plt\n",
    "import seaborn as sns\n",
    "from xgboost import XGBRegressor\n",
    "from sklearn.model_selection import cross_val_score\n",
    "# from lightgbm import LGBMRegressor"
   ]
  },
  {
   "cell_type": "code",
   "execution_count": 80,
   "id": "ab6c72b0",
   "metadata": {},
   "outputs": [],
   "source": [
    "train = pd.read_csv(\"./open/train.csv\")\n",
    "test = pd.read_csv(\"./open/test.csv\")"
   ]
  },
  {
   "cell_type": "code",
   "execution_count": 3,
   "id": "857603c2",
   "metadata": {},
   "outputs": [
    {
     "data": {
      "text/html": [
       "<div>\n",
       "<style scoped>\n",
       "    .dataframe tbody tr th:only-of-type {\n",
       "        vertical-align: middle;\n",
       "    }\n",
       "\n",
       "    .dataframe tbody tr th {\n",
       "        vertical-align: top;\n",
       "    }\n",
       "\n",
       "    .dataframe thead th {\n",
       "        text-align: right;\n",
       "    }\n",
       "</style>\n",
       "<table border=\"1\" class=\"dataframe\">\n",
       "  <thead>\n",
       "    <tr style=\"text-align: right;\">\n",
       "      <th></th>\n",
       "      <th>id</th>\n",
       "      <th>temperature</th>\n",
       "      <th>pressure</th>\n",
       "      <th>humidity</th>\n",
       "      <th>wind_speed</th>\n",
       "      <th>wind_direction</th>\n",
       "      <th>precipitation</th>\n",
       "      <th>snowing</th>\n",
       "      <th>cloudiness</th>\n",
       "      <th>target</th>\n",
       "    </tr>\n",
       "  </thead>\n",
       "  <tbody>\n",
       "    <tr>\n",
       "      <th>0</th>\n",
       "      <td>TRAIN_00000</td>\n",
       "      <td>27.8816</td>\n",
       "      <td>1013.6</td>\n",
       "      <td>46.8</td>\n",
       "      <td>2.4</td>\n",
       "      <td>232.4</td>\n",
       "      <td>0.00</td>\n",
       "      <td>False</td>\n",
       "      <td>0.0</td>\n",
       "      <td>1.180</td>\n",
       "    </tr>\n",
       "    <tr>\n",
       "      <th>1</th>\n",
       "      <td>TRAIN_00001</td>\n",
       "      <td>5.7540</td>\n",
       "      <td>1026.6</td>\n",
       "      <td>76.6</td>\n",
       "      <td>3.6</td>\n",
       "      <td>172.0</td>\n",
       "      <td>0.00</td>\n",
       "      <td>False</td>\n",
       "      <td>8.8</td>\n",
       "      <td>8.581</td>\n",
       "    </tr>\n",
       "    <tr>\n",
       "      <th>2</th>\n",
       "      <td>TRAIN_00002</td>\n",
       "      <td>20.8220</td>\n",
       "      <td>1016.2</td>\n",
       "      <td>64.8</td>\n",
       "      <td>2.2</td>\n",
       "      <td>206.0</td>\n",
       "      <td>0.06</td>\n",
       "      <td>False</td>\n",
       "      <td>23.0</td>\n",
       "      <td>3.978</td>\n",
       "    </tr>\n",
       "    <tr>\n",
       "      <th>3</th>\n",
       "      <td>TRAIN_00003</td>\n",
       "      <td>20.0758</td>\n",
       "      <td>1017.4</td>\n",
       "      <td>72.6</td>\n",
       "      <td>0.8</td>\n",
       "      <td>215.4</td>\n",
       "      <td>0.00</td>\n",
       "      <td>False</td>\n",
       "      <td>0.0</td>\n",
       "      <td>8.301</td>\n",
       "    </tr>\n",
       "    <tr>\n",
       "      <th>4</th>\n",
       "      <td>TRAIN_00004</td>\n",
       "      <td>7.5260</td>\n",
       "      <td>1023.2</td>\n",
       "      <td>82.8</td>\n",
       "      <td>1.2</td>\n",
       "      <td>158.0</td>\n",
       "      <td>0.00</td>\n",
       "      <td>False</td>\n",
       "      <td>15.0</td>\n",
       "      <td>1.692</td>\n",
       "    </tr>\n",
       "  </tbody>\n",
       "</table>\n",
       "</div>"
      ],
      "text/plain": [
       "            id  temperature  pressure  humidity  wind_speed  wind_direction  \\\n",
       "0  TRAIN_00000      27.8816    1013.6      46.8         2.4           232.4   \n",
       "1  TRAIN_00001       5.7540    1026.6      76.6         3.6           172.0   \n",
       "2  TRAIN_00002      20.8220    1016.2      64.8         2.2           206.0   \n",
       "3  TRAIN_00003      20.0758    1017.4      72.6         0.8           215.4   \n",
       "4  TRAIN_00004       7.5260    1023.2      82.8         1.2           158.0   \n",
       "\n",
       "   precipitation  snowing  cloudiness  target  \n",
       "0           0.00    False         0.0   1.180  \n",
       "1           0.00    False         8.8   8.581  \n",
       "2           0.06    False        23.0   3.978  \n",
       "3           0.00    False         0.0   8.301  \n",
       "4           0.00    False        15.0   1.692  "
      ]
     },
     "execution_count": 3,
     "metadata": {},
     "output_type": "execute_result"
    }
   ],
   "source": [
    "train.head()"
   ]
  },
  {
   "cell_type": "code",
   "execution_count": 4,
   "id": "75b3f3cf",
   "metadata": {},
   "outputs": [
    {
     "data": {
      "text/html": [
       "<div>\n",
       "<style scoped>\n",
       "    .dataframe tbody tr th:only-of-type {\n",
       "        vertical-align: middle;\n",
       "    }\n",
       "\n",
       "    .dataframe tbody tr th {\n",
       "        vertical-align: top;\n",
       "    }\n",
       "\n",
       "    .dataframe thead th {\n",
       "        text-align: right;\n",
       "    }\n",
       "</style>\n",
       "<table border=\"1\" class=\"dataframe\">\n",
       "  <thead>\n",
       "    <tr style=\"text-align: right;\">\n",
       "      <th></th>\n",
       "      <th>id</th>\n",
       "      <th>temperature</th>\n",
       "      <th>pressure</th>\n",
       "      <th>humidity</th>\n",
       "      <th>wind_speed</th>\n",
       "      <th>wind_direction</th>\n",
       "      <th>precipitation</th>\n",
       "      <th>snowing</th>\n",
       "      <th>cloudiness</th>\n",
       "    </tr>\n",
       "  </thead>\n",
       "  <tbody>\n",
       "    <tr>\n",
       "      <th>0</th>\n",
       "      <td>TEST_00000</td>\n",
       "      <td>20.702000</td>\n",
       "      <td>1021.0</td>\n",
       "      <td>76.4</td>\n",
       "      <td>2.0</td>\n",
       "      <td>104.8</td>\n",
       "      <td>0.00</td>\n",
       "      <td>False</td>\n",
       "      <td>23.0</td>\n",
       "    </tr>\n",
       "    <tr>\n",
       "      <th>1</th>\n",
       "      <td>TEST_00001</td>\n",
       "      <td>18.673669</td>\n",
       "      <td>1014.4</td>\n",
       "      <td>59.6</td>\n",
       "      <td>2.4</td>\n",
       "      <td>179.2</td>\n",
       "      <td>0.12</td>\n",
       "      <td>False</td>\n",
       "      <td>32.4</td>\n",
       "    </tr>\n",
       "    <tr>\n",
       "      <th>2</th>\n",
       "      <td>TEST_00002</td>\n",
       "      <td>29.908000</td>\n",
       "      <td>1020.6</td>\n",
       "      <td>49.6</td>\n",
       "      <td>2.6</td>\n",
       "      <td>78.0</td>\n",
       "      <td>0.60</td>\n",
       "      <td>False</td>\n",
       "      <td>23.0</td>\n",
       "    </tr>\n",
       "    <tr>\n",
       "      <th>3</th>\n",
       "      <td>TEST_00003</td>\n",
       "      <td>24.504000</td>\n",
       "      <td>1014.6</td>\n",
       "      <td>61.0</td>\n",
       "      <td>1.8</td>\n",
       "      <td>118.0</td>\n",
       "      <td>0.00</td>\n",
       "      <td>False</td>\n",
       "      <td>15.0</td>\n",
       "    </tr>\n",
       "    <tr>\n",
       "      <th>4</th>\n",
       "      <td>TEST_00004</td>\n",
       "      <td>12.590000</td>\n",
       "      <td>1011.4</td>\n",
       "      <td>70.8</td>\n",
       "      <td>1.8</td>\n",
       "      <td>110.0</td>\n",
       "      <td>0.12</td>\n",
       "      <td>False</td>\n",
       "      <td>34.0</td>\n",
       "    </tr>\n",
       "  </tbody>\n",
       "</table>\n",
       "</div>"
      ],
      "text/plain": [
       "           id  temperature  pressure  humidity  wind_speed  wind_direction  \\\n",
       "0  TEST_00000    20.702000    1021.0      76.4         2.0           104.8   \n",
       "1  TEST_00001    18.673669    1014.4      59.6         2.4           179.2   \n",
       "2  TEST_00002    29.908000    1020.6      49.6         2.6            78.0   \n",
       "3  TEST_00003    24.504000    1014.6      61.0         1.8           118.0   \n",
       "4  TEST_00004    12.590000    1011.4      70.8         1.8           110.0   \n",
       "\n",
       "   precipitation  snowing  cloudiness  \n",
       "0           0.00    False        23.0  \n",
       "1           0.12    False        32.4  \n",
       "2           0.60    False        23.0  \n",
       "3           0.00    False        15.0  \n",
       "4           0.12    False        34.0  "
      ]
     },
     "execution_count": 4,
     "metadata": {},
     "output_type": "execute_result"
    }
   ],
   "source": [
    "test.head()"
   ]
  },
  {
   "cell_type": "code",
   "execution_count": 5,
   "id": "22073e32",
   "metadata": {},
   "outputs": [
    {
     "name": "stdout",
     "output_type": "stream",
     "text": [
      "<class 'pandas.core.frame.DataFrame'>\n",
      "RangeIndex: 19275 entries, 0 to 19274\n",
      "Data columns (total 10 columns):\n",
      " #   Column          Non-Null Count  Dtype  \n",
      "---  ------          --------------  -----  \n",
      " 0   id              19275 non-null  object \n",
      " 1   temperature     19275 non-null  float64\n",
      " 2   pressure        19275 non-null  float64\n",
      " 3   humidity        19275 non-null  float64\n",
      " 4   wind_speed      19275 non-null  float64\n",
      " 5   wind_direction  19275 non-null  float64\n",
      " 6   precipitation   19275 non-null  float64\n",
      " 7   snowing         19275 non-null  bool   \n",
      " 8   cloudiness      19275 non-null  float64\n",
      " 9   target          19275 non-null  float64\n",
      "dtypes: bool(1), float64(8), object(1)\n",
      "memory usage: 1.3+ MB\n"
     ]
    }
   ],
   "source": [
    "train.info()"
   ]
  },
  {
   "cell_type": "code",
   "execution_count": 90,
   "id": "16089116",
   "metadata": {},
   "outputs": [],
   "source": [
    "input_var = ['temperature','pressure','humidity','wind_speed','wind_direction','precipitation','snowing','cloudiness']"
   ]
  },
  {
   "cell_type": "markdown",
   "id": "15e3b265",
   "metadata": {},
   "source": [
    "# 데이터 구조 확인하기"
   ]
  },
  {
   "cell_type": "code",
   "execution_count": 40,
   "id": "ff94204c",
   "metadata": {},
   "outputs": [
    {
     "data": {
      "image/png": "[encoded data removed]",
      "text/plain": [
       "<Figure size 1000x800 with 2 Axes>"
      ]
     },
     "metadata": {},
     "output_type": "display_data"
    }
   ],
   "source": [
    "# 상관성 확인하기\n",
    "plt.figure(figsize = (10,8))\n",
    "sns.heatmap(train.drop(columns=['id'], axis=1).corr(),\n",
    "           annot = True, fmt = '.2f', cmap = 'RdBu_r', center = 0)\n",
    "plt.show()"
   ]
  },
  {
   "cell_type": "markdown",
   "id": "060327f7",
   "metadata": {},
   "source": [
    " -> 상관성이 높은 1쌍 (temperature, humidity)"
   ]
  },
  {
   "cell_type": "code",
   "execution_count": 41,
   "id": "28e73b2b",
   "metadata": {},
   "outputs": [],
   "source": [
    "# del train['humidity'] # target과 상관성이 더 낮은 변수 'humidity' 제거 (제거 안하는 게 MSE 더 낮음)"
   ]
  },
  {
   "cell_type": "code",
   "execution_count": 42,
   "id": "7a5ac396",
   "metadata": {},
   "outputs": [],
   "source": [
    "# input_var = ['temperature','pressure','wind_speed','wind_direction','precipitation','snowing','cloudiness']"
   ]
  },
  {
   "cell_type": "code",
   "execution_count": 43,
   "id": "6e5ced5c",
   "metadata": {},
   "outputs": [
    {
     "name": "stderr",
     "output_type": "stream",
     "text": [
      "/Users/minjeekim/opt/anaconda3/lib/python3.9/site-packages/seaborn/_decorators.py:36: FutureWarning: Pass the following variable as a keyword arg: x. From version 0.12, the only valid positional argument will be `data`, and passing other arguments without an explicit keyword will result in an error or misinterpretation.\n",
      "  warnings.warn(\n",
      "/Users/minjeekim/opt/anaconda3/lib/python3.9/site-packages/seaborn/_decorators.py:36: FutureWarning: Pass the following variable as a keyword arg: x. From version 0.12, the only valid positional argument will be `data`, and passing other arguments without an explicit keyword will result in an error or misinterpretation.\n",
      "  warnings.warn(\n",
      "/Users/minjeekim/opt/anaconda3/lib/python3.9/site-packages/seaborn/_decorators.py:36: FutureWarning: Pass the following variable as a keyword arg: x. From version 0.12, the only valid positional argument will be `data`, and passing other arguments without an explicit keyword will result in an error or misinterpretation.\n",
      "  warnings.warn(\n",
      "/Users/minjeekim/opt/anaconda3/lib/python3.9/site-packages/seaborn/_decorators.py:36: FutureWarning: Pass the following variable as a keyword arg: x. From version 0.12, the only valid positional argument will be `data`, and passing other arguments without an explicit keyword will result in an error or misinterpretation.\n",
      "  warnings.warn(\n",
      "/Users/minjeekim/opt/anaconda3/lib/python3.9/site-packages/seaborn/_decorators.py:36: FutureWarning: Pass the following variable as a keyword arg: x. From version 0.12, the only valid positional argument will be `data`, and passing other arguments without an explicit keyword will result in an error or misinterpretation.\n",
      "  warnings.warn(\n",
      "/Users/minjeekim/opt/anaconda3/lib/python3.9/site-packages/seaborn/_decorators.py:36: FutureWarning: Pass the following variable as a keyword arg: x. From version 0.12, the only valid positional argument will be `data`, and passing other arguments without an explicit keyword will result in an error or misinterpretation.\n",
      "  warnings.warn(\n",
      "/Users/minjeekim/opt/anaconda3/lib/python3.9/site-packages/seaborn/_decorators.py:36: FutureWarning: Pass the following variable as a keyword arg: x. From version 0.12, the only valid positional argument will be `data`, and passing other arguments without an explicit keyword will result in an error or misinterpretation.\n",
      "  warnings.warn(\n"
     ]
    },
    {
     "data": {
      "image/png": "[encoded data removed]",
      "text/plain": [
       "<Figure size 1500x700 with 8 Axes>"
      ]
     },
     "metadata": {},
     "output_type": "display_data"
    }
   ],
   "source": [
    "# 이상치 확인하기\n",
    "fig, axes = plt.subplots(2,4, figsize=(15,7))\n",
    "a=0;b=0\n",
    "\n",
    "sns.boxplot(train['temperature'], ax = axes[0][0])\n",
    "sns.boxplot(train['pressure'], ax = axes[0][1])\n",
    "sns.boxplot(train['wind_speed'], ax = axes[0][2])\n",
    "sns.boxplot(train['wind_direction'], ax = axes[0][3])\n",
    "sns.boxplot(train['precipitation'], ax = axes[1][0])\n",
    "sns.boxplot(train['cloudiness'], ax = axes[1][1])\n",
    "sns.boxplot(train['target'], ax = axes[1][2])\n",
    "\n",
    "plt.show()"
   ]
  },
  {
   "cell_type": "code",
   "execution_count": 81,
   "id": "85f0b4e9",
   "metadata": {},
   "outputs": [
    {
     "data": {
      "text/html": [
       "<div>\n",
       "<style scoped>\n",
       "    .dataframe tbody tr th:only-of-type {\n",
       "        vertical-align: middle;\n",
       "    }\n",
       "\n",
       "    .dataframe tbody tr th {\n",
       "        vertical-align: top;\n",
       "    }\n",
       "\n",
       "    .dataframe thead th {\n",
       "        text-align: right;\n",
       "    }\n",
       "</style>\n",
       "<table border=\"1\" class=\"dataframe\">\n",
       "  <thead>\n",
       "    <tr style=\"text-align: right;\">\n",
       "      <th></th>\n",
       "      <th>lower</th>\n",
       "      <th>upper</th>\n",
       "    </tr>\n",
       "  </thead>\n",
       "  <tbody>\n",
       "    <tr>\n",
       "      <th>temperature</th>\n",
       "      <td>-4.55850</td>\n",
       "      <td>38.82950</td>\n",
       "    </tr>\n",
       "    <tr>\n",
       "      <th>pressure</th>\n",
       "      <td>1000.00000</td>\n",
       "      <td>1033.60000</td>\n",
       "    </tr>\n",
       "    <tr>\n",
       "      <th>humidity</th>\n",
       "      <td>23.30000</td>\n",
       "      <td>115.30000</td>\n",
       "    </tr>\n",
       "    <tr>\n",
       "      <th>wind_speed</th>\n",
       "      <td>-1.30000</td>\n",
       "      <td>5.90000</td>\n",
       "    </tr>\n",
       "    <tr>\n",
       "      <th>wind_direction</th>\n",
       "      <td>5.50000</td>\n",
       "      <td>329.50000</td>\n",
       "    </tr>\n",
       "    <tr>\n",
       "      <th>precipitation</th>\n",
       "      <td>-0.09000</td>\n",
       "      <td>0.15000</td>\n",
       "    </tr>\n",
       "    <tr>\n",
       "      <th>cloudiness</th>\n",
       "      <td>-25.50000</td>\n",
       "      <td>74.50000</td>\n",
       "    </tr>\n",
       "    <tr>\n",
       "      <th>target</th>\n",
       "      <td>-3.76475</td>\n",
       "      <td>14.15725</td>\n",
       "    </tr>\n",
       "  </tbody>\n",
       "</table>\n",
       "</div>"
      ],
      "text/plain": [
       "                     lower       upper\n",
       "temperature       -4.55850    38.82950\n",
       "pressure        1000.00000  1033.60000\n",
       "humidity          23.30000   115.30000\n",
       "wind_speed        -1.30000     5.90000\n",
       "wind_direction     5.50000   329.50000\n",
       "precipitation     -0.09000     0.15000\n",
       "cloudiness       -25.50000    74.50000\n",
       "target            -3.76475    14.15725"
      ]
     },
     "execution_count": 81,
     "metadata": {},
     "output_type": "execute_result"
    }
   ],
   "source": [
    "## 이상치를 전부 제거하면 데이터가 많이 삭제되기 때문에 좋지않음! target과 가장 상관성이 높은 wind_speed의 이상치를 제거\n",
    "Q1 = train.describe().loc['25%']\n",
    "Q3 = train.describe().loc['75%']\n",
    "IQR = Q3 - Q1\n",
    "u = Q3 + 1.5 * IQR\n",
    "l = Q1 - 1.5 * IQR\n",
    "outline = pd.DataFrame({'lower':l, 'upper':u})\n",
    "outline"
   ]
  },
  {
   "cell_type": "code",
   "execution_count": 82,
   "id": "9c084eb3",
   "metadata": {},
   "outputs": [],
   "source": [
    "index = train[(train['wind_speed']<=outline.loc['wind_speed','lower']) | (train['wind_speed'] >= outline.loc['wind_speed','upper'])].index"
   ]
  },
  {
   "cell_type": "code",
   "execution_count": 83,
   "id": "8f18f92e",
   "metadata": {},
   "outputs": [
    {
     "data": {
      "text/html": [
       "<div>\n",
       "<style scoped>\n",
       "    .dataframe tbody tr th:only-of-type {\n",
       "        vertical-align: middle;\n",
       "    }\n",
       "\n",
       "    .dataframe tbody tr th {\n",
       "        vertical-align: top;\n",
       "    }\n",
       "\n",
       "    .dataframe thead th {\n",
       "        text-align: right;\n",
       "    }\n",
       "</style>\n",
       "<table border=\"1\" class=\"dataframe\">\n",
       "  <thead>\n",
       "    <tr style=\"text-align: right;\">\n",
       "      <th></th>\n",
       "      <th>id</th>\n",
       "      <th>temperature</th>\n",
       "      <th>pressure</th>\n",
       "      <th>humidity</th>\n",
       "      <th>wind_speed</th>\n",
       "      <th>wind_direction</th>\n",
       "      <th>precipitation</th>\n",
       "      <th>snowing</th>\n",
       "      <th>cloudiness</th>\n",
       "      <th>target</th>\n",
       "    </tr>\n",
       "  </thead>\n",
       "  <tbody>\n",
       "    <tr>\n",
       "      <th>0</th>\n",
       "      <td>TRAIN_00000</td>\n",
       "      <td>27.881600</td>\n",
       "      <td>1013.6</td>\n",
       "      <td>46.8</td>\n",
       "      <td>2.4</td>\n",
       "      <td>232.4</td>\n",
       "      <td>0.00</td>\n",
       "      <td>False</td>\n",
       "      <td>0.0</td>\n",
       "      <td>1.180</td>\n",
       "    </tr>\n",
       "    <tr>\n",
       "      <th>1</th>\n",
       "      <td>TRAIN_00001</td>\n",
       "      <td>5.754000</td>\n",
       "      <td>1026.6</td>\n",
       "      <td>76.6</td>\n",
       "      <td>3.6</td>\n",
       "      <td>172.0</td>\n",
       "      <td>0.00</td>\n",
       "      <td>False</td>\n",
       "      <td>8.8</td>\n",
       "      <td>8.581</td>\n",
       "    </tr>\n",
       "    <tr>\n",
       "      <th>2</th>\n",
       "      <td>TRAIN_00002</td>\n",
       "      <td>20.822000</td>\n",
       "      <td>1016.2</td>\n",
       "      <td>64.8</td>\n",
       "      <td>2.2</td>\n",
       "      <td>206.0</td>\n",
       "      <td>0.06</td>\n",
       "      <td>False</td>\n",
       "      <td>23.0</td>\n",
       "      <td>3.978</td>\n",
       "    </tr>\n",
       "    <tr>\n",
       "      <th>3</th>\n",
       "      <td>TRAIN_00003</td>\n",
       "      <td>20.075800</td>\n",
       "      <td>1017.4</td>\n",
       "      <td>72.6</td>\n",
       "      <td>0.8</td>\n",
       "      <td>215.4</td>\n",
       "      <td>0.00</td>\n",
       "      <td>False</td>\n",
       "      <td>0.0</td>\n",
       "      <td>8.301</td>\n",
       "    </tr>\n",
       "    <tr>\n",
       "      <th>4</th>\n",
       "      <td>TRAIN_00004</td>\n",
       "      <td>7.526000</td>\n",
       "      <td>1023.2</td>\n",
       "      <td>82.8</td>\n",
       "      <td>1.2</td>\n",
       "      <td>158.0</td>\n",
       "      <td>0.00</td>\n",
       "      <td>False</td>\n",
       "      <td>15.0</td>\n",
       "      <td>1.692</td>\n",
       "    </tr>\n",
       "    <tr>\n",
       "      <th>...</th>\n",
       "      <td>...</td>\n",
       "      <td>...</td>\n",
       "      <td>...</td>\n",
       "      <td>...</td>\n",
       "      <td>...</td>\n",
       "      <td>...</td>\n",
       "      <td>...</td>\n",
       "      <td>...</td>\n",
       "      <td>...</td>\n",
       "      <td>...</td>\n",
       "    </tr>\n",
       "    <tr>\n",
       "      <th>19270</th>\n",
       "      <td>TRAIN_19270</td>\n",
       "      <td>12.020000</td>\n",
       "      <td>1023.8</td>\n",
       "      <td>81.4</td>\n",
       "      <td>1.6</td>\n",
       "      <td>176.0</td>\n",
       "      <td>0.00</td>\n",
       "      <td>False</td>\n",
       "      <td>0.0</td>\n",
       "      <td>7.047</td>\n",
       "    </tr>\n",
       "    <tr>\n",
       "      <th>19271</th>\n",
       "      <td>TRAIN_19271</td>\n",
       "      <td>17.232000</td>\n",
       "      <td>993.2</td>\n",
       "      <td>78.2</td>\n",
       "      <td>2.0</td>\n",
       "      <td>198.0</td>\n",
       "      <td>0.06</td>\n",
       "      <td>False</td>\n",
       "      <td>26.4</td>\n",
       "      <td>3.670</td>\n",
       "    </tr>\n",
       "    <tr>\n",
       "      <th>19272</th>\n",
       "      <td>TRAIN_19272</td>\n",
       "      <td>13.748000</td>\n",
       "      <td>999.8</td>\n",
       "      <td>65.0</td>\n",
       "      <td>6.4</td>\n",
       "      <td>260.0</td>\n",
       "      <td>0.36</td>\n",
       "      <td>False</td>\n",
       "      <td>53.0</td>\n",
       "      <td>3.328</td>\n",
       "    </tr>\n",
       "    <tr>\n",
       "      <th>19273</th>\n",
       "      <td>TRAIN_19273</td>\n",
       "      <td>19.354000</td>\n",
       "      <td>1019.4</td>\n",
       "      <td>45.4</td>\n",
       "      <td>2.4</td>\n",
       "      <td>120.0</td>\n",
       "      <td>0.06</td>\n",
       "      <td>False</td>\n",
       "      <td>20.0</td>\n",
       "      <td>12.379</td>\n",
       "    </tr>\n",
       "    <tr>\n",
       "      <th>19274</th>\n",
       "      <td>TRAIN_19274</td>\n",
       "      <td>13.731863</td>\n",
       "      <td>1004.2</td>\n",
       "      <td>81.6</td>\n",
       "      <td>2.0</td>\n",
       "      <td>222.2</td>\n",
       "      <td>0.06</td>\n",
       "      <td>False</td>\n",
       "      <td>44.2</td>\n",
       "      <td>6.374</td>\n",
       "    </tr>\n",
       "  </tbody>\n",
       "</table>\n",
       "<p>19275 rows × 10 columns</p>\n",
       "</div>"
      ],
      "text/plain": [
       "                id  temperature  pressure  humidity  wind_speed  \\\n",
       "0      TRAIN_00000    27.881600    1013.6      46.8         2.4   \n",
       "1      TRAIN_00001     5.754000    1026.6      76.6         3.6   \n",
       "2      TRAIN_00002    20.822000    1016.2      64.8         2.2   \n",
       "3      TRAIN_00003    20.075800    1017.4      72.6         0.8   \n",
       "4      TRAIN_00004     7.526000    1023.2      82.8         1.2   \n",
       "...            ...          ...       ...       ...         ...   \n",
       "19270  TRAIN_19270    12.020000    1023.8      81.4         1.6   \n",
       "19271  TRAIN_19271    17.232000     993.2      78.2         2.0   \n",
       "19272  TRAIN_19272    13.748000     999.8      65.0         6.4   \n",
       "19273  TRAIN_19273    19.354000    1019.4      45.4         2.4   \n",
       "19274  TRAIN_19274    13.731863    1004.2      81.6         2.0   \n",
       "\n",
       "       wind_direction  precipitation  snowing  cloudiness  target  \n",
       "0               232.4           0.00    False         0.0   1.180  \n",
       "1               172.0           0.00    False         8.8   8.581  \n",
       "2               206.0           0.06    False        23.0   3.978  \n",
       "3               215.4           0.00    False         0.0   8.301  \n",
       "4               158.0           0.00    False        15.0   1.692  \n",
       "...               ...            ...      ...         ...     ...  \n",
       "19270           176.0           0.00    False         0.0   7.047  \n",
       "19271           198.0           0.06    False        26.4   3.670  \n",
       "19272           260.0           0.36    False        53.0   3.328  \n",
       "19273           120.0           0.06    False        20.0  12.379  \n",
       "19274           222.2           0.06    False        44.2   6.374  \n",
       "\n",
       "[19275 rows x 10 columns]"
      ]
     },
     "execution_count": 83,
     "metadata": {},
     "output_type": "execute_result"
    }
   ],
   "source": [
    "t = train.copy()\n",
    "t"
   ]
  },
  {
   "cell_type": "code",
   "execution_count": 84,
   "id": "15f9e7c4",
   "metadata": {},
   "outputs": [],
   "source": [
    "t = t.drop(index, axis = 0)"
   ]
  },
  {
   "cell_type": "code",
   "execution_count": 85,
   "id": "0f1de424",
   "metadata": {},
   "outputs": [
    {
     "data": {
      "text/html": [
       "<div>\n",
       "<style scoped>\n",
       "    .dataframe tbody tr th:only-of-type {\n",
       "        vertical-align: middle;\n",
       "    }\n",
       "\n",
       "    .dataframe tbody tr th {\n",
       "        vertical-align: top;\n",
       "    }\n",
       "\n",
       "    .dataframe thead th {\n",
       "        text-align: right;\n",
       "    }\n",
       "</style>\n",
       "<table border=\"1\" class=\"dataframe\">\n",
       "  <thead>\n",
       "    <tr style=\"text-align: right;\">\n",
       "      <th></th>\n",
       "      <th>id</th>\n",
       "      <th>temperature</th>\n",
       "      <th>pressure</th>\n",
       "      <th>humidity</th>\n",
       "      <th>wind_speed</th>\n",
       "      <th>wind_direction</th>\n",
       "      <th>precipitation</th>\n",
       "      <th>snowing</th>\n",
       "      <th>cloudiness</th>\n",
       "      <th>target</th>\n",
       "    </tr>\n",
       "  </thead>\n",
       "  <tbody>\n",
       "    <tr>\n",
       "      <th>0</th>\n",
       "      <td>TRAIN_00000</td>\n",
       "      <td>27.881600</td>\n",
       "      <td>1013.6</td>\n",
       "      <td>46.8</td>\n",
       "      <td>2.4</td>\n",
       "      <td>232.4</td>\n",
       "      <td>0.00</td>\n",
       "      <td>False</td>\n",
       "      <td>0.0</td>\n",
       "      <td>1.180</td>\n",
       "    </tr>\n",
       "    <tr>\n",
       "      <th>1</th>\n",
       "      <td>TRAIN_00001</td>\n",
       "      <td>5.754000</td>\n",
       "      <td>1026.6</td>\n",
       "      <td>76.6</td>\n",
       "      <td>3.6</td>\n",
       "      <td>172.0</td>\n",
       "      <td>0.00</td>\n",
       "      <td>False</td>\n",
       "      <td>8.8</td>\n",
       "      <td>8.581</td>\n",
       "    </tr>\n",
       "    <tr>\n",
       "      <th>2</th>\n",
       "      <td>TRAIN_00002</td>\n",
       "      <td>20.822000</td>\n",
       "      <td>1016.2</td>\n",
       "      <td>64.8</td>\n",
       "      <td>2.2</td>\n",
       "      <td>206.0</td>\n",
       "      <td>0.06</td>\n",
       "      <td>False</td>\n",
       "      <td>23.0</td>\n",
       "      <td>3.978</td>\n",
       "    </tr>\n",
       "    <tr>\n",
       "      <th>3</th>\n",
       "      <td>TRAIN_00003</td>\n",
       "      <td>20.075800</td>\n",
       "      <td>1017.4</td>\n",
       "      <td>72.6</td>\n",
       "      <td>0.8</td>\n",
       "      <td>215.4</td>\n",
       "      <td>0.00</td>\n",
       "      <td>False</td>\n",
       "      <td>0.0</td>\n",
       "      <td>8.301</td>\n",
       "    </tr>\n",
       "    <tr>\n",
       "      <th>4</th>\n",
       "      <td>TRAIN_00004</td>\n",
       "      <td>7.526000</td>\n",
       "      <td>1023.2</td>\n",
       "      <td>82.8</td>\n",
       "      <td>1.2</td>\n",
       "      <td>158.0</td>\n",
       "      <td>0.00</td>\n",
       "      <td>False</td>\n",
       "      <td>15.0</td>\n",
       "      <td>1.692</td>\n",
       "    </tr>\n",
       "    <tr>\n",
       "      <th>...</th>\n",
       "      <td>...</td>\n",
       "      <td>...</td>\n",
       "      <td>...</td>\n",
       "      <td>...</td>\n",
       "      <td>...</td>\n",
       "      <td>...</td>\n",
       "      <td>...</td>\n",
       "      <td>...</td>\n",
       "      <td>...</td>\n",
       "      <td>...</td>\n",
       "    </tr>\n",
       "    <tr>\n",
       "      <th>19269</th>\n",
       "      <td>TRAIN_19269</td>\n",
       "      <td>30.234000</td>\n",
       "      <td>1016.2</td>\n",
       "      <td>45.6</td>\n",
       "      <td>4.6</td>\n",
       "      <td>186.0</td>\n",
       "      <td>0.00</td>\n",
       "      <td>False</td>\n",
       "      <td>23.0</td>\n",
       "      <td>6.500</td>\n",
       "    </tr>\n",
       "    <tr>\n",
       "      <th>19270</th>\n",
       "      <td>TRAIN_19270</td>\n",
       "      <td>12.020000</td>\n",
       "      <td>1023.8</td>\n",
       "      <td>81.4</td>\n",
       "      <td>1.6</td>\n",
       "      <td>176.0</td>\n",
       "      <td>0.00</td>\n",
       "      <td>False</td>\n",
       "      <td>0.0</td>\n",
       "      <td>7.047</td>\n",
       "    </tr>\n",
       "    <tr>\n",
       "      <th>19271</th>\n",
       "      <td>TRAIN_19271</td>\n",
       "      <td>17.232000</td>\n",
       "      <td>993.2</td>\n",
       "      <td>78.2</td>\n",
       "      <td>2.0</td>\n",
       "      <td>198.0</td>\n",
       "      <td>0.06</td>\n",
       "      <td>False</td>\n",
       "      <td>26.4</td>\n",
       "      <td>3.670</td>\n",
       "    </tr>\n",
       "    <tr>\n",
       "      <th>19273</th>\n",
       "      <td>TRAIN_19273</td>\n",
       "      <td>19.354000</td>\n",
       "      <td>1019.4</td>\n",
       "      <td>45.4</td>\n",
       "      <td>2.4</td>\n",
       "      <td>120.0</td>\n",
       "      <td>0.06</td>\n",
       "      <td>False</td>\n",
       "      <td>20.0</td>\n",
       "      <td>12.379</td>\n",
       "    </tr>\n",
       "    <tr>\n",
       "      <th>19274</th>\n",
       "      <td>TRAIN_19274</td>\n",
       "      <td>13.731863</td>\n",
       "      <td>1004.2</td>\n",
       "      <td>81.6</td>\n",
       "      <td>2.0</td>\n",
       "      <td>222.2</td>\n",
       "      <td>0.06</td>\n",
       "      <td>False</td>\n",
       "      <td>44.2</td>\n",
       "      <td>6.374</td>\n",
       "    </tr>\n",
       "  </tbody>\n",
       "</table>\n",
       "<p>18829 rows × 10 columns</p>\n",
       "</div>"
      ],
      "text/plain": [
       "                id  temperature  pressure  humidity  wind_speed  \\\n",
       "0      TRAIN_00000    27.881600    1013.6      46.8         2.4   \n",
       "1      TRAIN_00001     5.754000    1026.6      76.6         3.6   \n",
       "2      TRAIN_00002    20.822000    1016.2      64.8         2.2   \n",
       "3      TRAIN_00003    20.075800    1017.4      72.6         0.8   \n",
       "4      TRAIN_00004     7.526000    1023.2      82.8         1.2   \n",
       "...            ...          ...       ...       ...         ...   \n",
       "19269  TRAIN_19269    30.234000    1016.2      45.6         4.6   \n",
       "19270  TRAIN_19270    12.020000    1023.8      81.4         1.6   \n",
       "19271  TRAIN_19271    17.232000     993.2      78.2         2.0   \n",
       "19273  TRAIN_19273    19.354000    1019.4      45.4         2.4   \n",
       "19274  TRAIN_19274    13.731863    1004.2      81.6         2.0   \n",
       "\n",
       "       wind_direction  precipitation  snowing  cloudiness  target  \n",
       "0               232.4           0.00    False         0.0   1.180  \n",
       "1               172.0           0.00    False         8.8   8.581  \n",
       "2               206.0           0.06    False        23.0   3.978  \n",
       "3               215.4           0.00    False         0.0   8.301  \n",
       "4               158.0           0.00    False        15.0   1.692  \n",
       "...               ...            ...      ...         ...     ...  \n",
       "19269           186.0           0.00    False        23.0   6.500  \n",
       "19270           176.0           0.00    False         0.0   7.047  \n",
       "19271           198.0           0.06    False        26.4   3.670  \n",
       "19273           120.0           0.06    False        20.0  12.379  \n",
       "19274           222.2           0.06    False        44.2   6.374  \n",
       "\n",
       "[18829 rows x 10 columns]"
      ]
     },
     "execution_count": 85,
     "metadata": {},
     "output_type": "execute_result"
    }
   ],
   "source": [
    "t"
   ]
  },
  {
   "cell_type": "markdown",
   "id": "3902d10e",
   "metadata": {},
   "source": [
    "# XGBOOST 모델링"
   ]
  },
  {
   "cell_type": "code",
   "execution_count": 96,
   "id": "f98dcad0",
   "metadata": {},
   "outputs": [
    {
     "data": {
      "text/plain": [
       "1.6134315547652904"
      ]
     },
     "execution_count": 96,
     "metadata": {},
     "output_type": "execute_result"
    }
   ],
   "source": [
    "xgb = XGBRegressor(n_estimators=300, learning_rate=0.1)\n",
    "xgb.fit(t[input_var], t['target'])\n",
    "t['pred'] = xgb.predict(t[input_var])\n",
    "abs(t['target']-t['pred']).mean()"
   ]
  },
  {
   "cell_type": "code",
   "execution_count": 97,
   "id": "77ebf423",
   "metadata": {},
   "outputs": [
    {
     "data": {
      "text/plain": [
       "1.655445777241361"
      ]
     },
     "execution_count": 97,
     "metadata": {},
     "output_type": "execute_result"
    }
   ],
   "source": [
    "xgb2 = XGBRegressor(n_estimators=300, learning_rate=0.1)\n",
    "xgb2.fit(train[input_var],train['target'])\n",
    "train['pred'] = xgb2.predict(train[input_var])\n",
    "abs(train['target']-train['pred']).mean()"
   ]
  },
  {
   "cell_type": "markdown",
   "id": "70a79bc5",
   "metadata": {},
   "source": [
    "-> 이상치 제거했을 때 예측 더 잘됨"
   ]
  },
  {
   "cell_type": "code",
   "execution_count": 98,
   "id": "e97cfb82",
   "metadata": {},
   "outputs": [
    {
     "data": {
      "text/html": [
       "<div>\n",
       "<style scoped>\n",
       "    .dataframe tbody tr th:only-of-type {\n",
       "        vertical-align: middle;\n",
       "    }\n",
       "\n",
       "    .dataframe tbody tr th {\n",
       "        vertical-align: top;\n",
       "    }\n",
       "\n",
       "    .dataframe thead th {\n",
       "        text-align: right;\n",
       "    }\n",
       "</style>\n",
       "<table border=\"1\" class=\"dataframe\">\n",
       "  <thead>\n",
       "    <tr style=\"text-align: right;\">\n",
       "      <th></th>\n",
       "      <th>var</th>\n",
       "      <th>import</th>\n",
       "    </tr>\n",
       "  </thead>\n",
       "  <tbody>\n",
       "    <tr>\n",
       "      <th>3</th>\n",
       "      <td>wind_speed</td>\n",
       "      <td>0.262400</td>\n",
       "    </tr>\n",
       "    <tr>\n",
       "      <th>6</th>\n",
       "      <td>snowing</td>\n",
       "      <td>0.186836</td>\n",
       "    </tr>\n",
       "    <tr>\n",
       "      <th>5</th>\n",
       "      <td>precipitation</td>\n",
       "      <td>0.098725</td>\n",
       "    </tr>\n",
       "    <tr>\n",
       "      <th>0</th>\n",
       "      <td>temperature</td>\n",
       "      <td>0.097704</td>\n",
       "    </tr>\n",
       "    <tr>\n",
       "      <th>1</th>\n",
       "      <td>pressure</td>\n",
       "      <td>0.095233</td>\n",
       "    </tr>\n",
       "    <tr>\n",
       "      <th>7</th>\n",
       "      <td>cloudiness</td>\n",
       "      <td>0.087725</td>\n",
       "    </tr>\n",
       "    <tr>\n",
       "      <th>4</th>\n",
       "      <td>wind_direction</td>\n",
       "      <td>0.086764</td>\n",
       "    </tr>\n",
       "    <tr>\n",
       "      <th>2</th>\n",
       "      <td>humidity</td>\n",
       "      <td>0.084613</td>\n",
       "    </tr>\n",
       "  </tbody>\n",
       "</table>\n",
       "</div>"
      ],
      "text/plain": [
       "              var    import\n",
       "3      wind_speed  0.262400\n",
       "6         snowing  0.186836\n",
       "5   precipitation  0.098725\n",
       "0     temperature  0.097704\n",
       "1        pressure  0.095233\n",
       "7      cloudiness  0.087725\n",
       "4  wind_direction  0.086764\n",
       "2        humidity  0.084613"
      ]
     },
     "execution_count": 98,
     "metadata": {},
     "output_type": "execute_result"
    }
   ],
   "source": [
    "# 변수중요도가 큰 순으로 input variables\n",
    "imt = pd.DataFrame({'var':input_var, 'import':xgb.feature_importances_}).sort_values(by='import',ascending=False)\n",
    "imt"
   ]
  },
  {
   "cell_type": "code",
   "execution_count": 99,
   "id": "adbf5da9",
   "metadata": {},
   "outputs": [
    {
     "data": {
      "text/plain": [
       "<function matplotlib.pyplot.show(close=None, block=None)>"
      ]
     },
     "execution_count": 99,
     "metadata": {},
     "output_type": "execute_result"
    },
    {
     "data": {
      "image/png": "[encoded data removed]",
      "text/plain": [
       "<Figure size 640x480 with 1 Axes>"
      ]
     },
     "metadata": {},
     "output_type": "display_data"
    }
   ],
   "source": [
    "plt.bar(imt['var'], imt['import'])\n",
    "plt.xticks(rotation=90)\n",
    "plt.show"
   ]
  },
  {
   "cell_type": "markdown",
   "id": "7244ca49",
   "metadata": {},
   "source": [
    "# 파라미터 조정"
   ]
  },
  {
   "cell_type": "code",
   "execution_count": 101,
   "id": "64b59975",
   "metadata": {},
   "outputs": [
    {
     "data": {
      "text/plain": [
       "[<matplotlib.lines.Line2D at 0x7fe9a29b1b20>]"
      ]
     },
     "execution_count": 101,
     "metadata": {},
     "output_type": "execute_result"
    },
    {
     "data": {
      "image/png": "[encoded data removed]",
      "text/plain": [
       "<Figure size 640x480 with 1 Axes>"
      ]
     },
     "metadata": {},
     "output_type": "display_data"
    }
   ],
   "source": [
    "# input 변수 개수는 몇 개가 좋을 지?\n",
    "score_list = [] # MAE 점수 리스트\n",
    "varnum = [] # input variables 개수 리스트\n",
    "\n",
    "for i in range(1,len(imt)+1):\n",
    "    select_var = imt['var'].iloc[:i].to_list()\n",
    "    scores = cross_val_score(xgb, t[select_var], t['target'], scoring = 'neg_mean_absolute_error', cv = 3)\n",
    "    score_list.append(-scores.mean())\n",
    "    varnum.append(i)\n",
    "    \n",
    "plt.plot(varnum, score_list) "
   ]
  },
  {
   "cell_type": "code",
   "execution_count": 130,
   "id": "29e8fc8f",
   "metadata": {},
   "outputs": [
    {
     "data": {
      "text/plain": [
       "[<matplotlib.lines.Line2D at 0x7fe9a25cc040>]"
      ]
     },
     "execution_count": 130,
     "metadata": {},
     "output_type": "execute_result"
    },
    {
     "data": {
      "image/png": "[encoded data removed]",
      "text/plain": [
       "<Figure size 640x480 with 1 Axes>"
      ]
     },
     "metadata": {},
     "output_type": "display_data"
    }
   ],
   "source": [
    "# 파라미터는 몇이 좋을지?\n",
    "estimators_list = [100,200,300,400,500,600,700,800,900,1000,1100,1200]\n",
    "score_list = []\n",
    "\n",
    "for i in estimators_list:\n",
    "    xgb = XGBRegressor(n_estimators=i, learning_rate=0.1)\n",
    "    scores = cross_val_score(xgb, t[input_var], t['target'], scoring = 'neg_mean_absolute_error', cv = 3)\n",
    "    score_list.append(-scores.mean())\n",
    "\n",
    "plt.plot(estimators_list, score_list)"
   ]
  },
  {
   "cell_type": "code",
   "execution_count": 104,
   "id": "4fa99111",
   "metadata": {},
   "outputs": [
    {
     "data": {
      "text/plain": [
       "1.1031250652972757"
      ]
     },
     "execution_count": 104,
     "metadata": {},
     "output_type": "execute_result"
    }
   ],
   "source": [
    "xgb = XGBRegressor(n_estimators=900, learning_rate=0.1)\n",
    "xgb.fit(t[input_var], t['target'])\n",
    "t['pred'] = xgb.predict(t[input_var])\n",
    "abs(t['target']-t['pred']).mean()"
   ]
  },
  {
   "cell_type": "code",
   "execution_count": 105,
   "id": "c7d9e1a2",
   "metadata": {},
   "outputs": [],
   "source": [
    "test['target'] = xgb.predict(test[input_var])\n",
    "test[['id','target']].to_csv(\"submission.csv\", index = False)"
   ]
  },
  {
   "cell_type": "markdown",
   "id": "0ae810ec",
   "metadata": {},
   "source": [
    "## => 2.0636867776"
   ]
  },
  {
   "cell_type": "code",
   "execution_count": 133,
   "id": "cd46c2f8",
   "metadata": {},
   "outputs": [
    {
     "data": {
      "text/plain": [
       "[<matplotlib.lines.Line2D at 0x7fe9a378c0a0>]"
      ]
     },
     "execution_count": 133,
     "metadata": {},
     "output_type": "execute_result"
    },
    {
     "data": {
      "image/png": "[encoded data removed]",
      "text/plain": [
       "<Figure size 640x480 with 1 Axes>"
      ]
     },
     "metadata": {},
     "output_type": "display_data"
    }
   ],
   "source": [
    "# 파라미터는 몇이 좋을지?\n",
    "lr_list = [0.05,0.1,0.15,0.2]\n",
    "score_list = []\n",
    "\n",
    "for i in lr_list:\n",
    "    xgb = XGBRegressor(n_estimators=1000, learning_rate=i)\n",
    "    scores = cross_val_score(xgb, t[input_var], t['target'], scoring = 'neg_mean_absolute_error', cv = 3)\n",
    "    score_list.append(-scores.mean())\n",
    "\n",
    "plt.plot(lr_list, score_list)"
   ]
  },
  {
   "cell_type": "code",
   "execution_count": 134,
   "id": "bc03348e",
   "metadata": {},
   "outputs": [
    {
     "data": {
      "text/plain": [
       "1.0402363199093154"
      ]
     },
     "execution_count": 134,
     "metadata": {},
     "output_type": "execute_result"
    }
   ],
   "source": [
    "xgb = XGBRegressor(n_estimators=1000, learning_rate=0.1)\n",
    "xgb.fit(t[input_var], t['target'])\n",
    "t['pred'] = xgb.predict(t[input_var])\n",
    "abs(t['target']-t['pred']).mean()"
   ]
  },
  {
   "cell_type": "code",
   "execution_count": 135,
   "id": "7feffecb",
   "metadata": {},
   "outputs": [],
   "source": [
    "test['target'] = xgb.predict(test[input_var])\n",
    "test[['id','target']].to_csv(\"submission.csv\", index = False)"
   ]
  },
  {
   "cell_type": "markdown",
   "id": "f185fcc5",
   "metadata": {},
   "source": [
    "## => 2.0594433004"
   ]
  },
  {
   "cell_type": "code",
   "execution_count": 147,
   "id": "5c4bb86f",
   "metadata": {},
   "outputs": [
    {
     "name": "stderr",
     "output_type": "stream",
     "text": [
      "/Users/minjeekim/opt/anaconda3/lib/python3.9/site-packages/seaborn/_decorators.py:36: FutureWarning: Pass the following variable as a keyword arg: x. From version 0.12, the only valid positional argument will be `data`, and passing other arguments without an explicit keyword will result in an error or misinterpretation.\n",
      "  warnings.warn(\n"
     ]
    },
    {
     "data": {
      "text/plain": [
       "<AxesSubplot:xlabel='wind_speed'>"
      ]
     },
     "execution_count": 147,
     "metadata": {},
     "output_type": "execute_result"
    },
    {
     "data": {
      "image/png": "[encoded data removed]",
      "text/plain": [
       "<Figure size 640x480 with 1 Axes>"
      ]
     },
     "metadata": {},
     "output_type": "display_data"
    }
   ],
   "source": [
    "tt = train[train['wind_speed']<=25]\n",
    "sns.boxplot(tt['wind_speed'])"
   ]
  },
  {
   "cell_type": "code",
   "execution_count": 148,
   "id": "779d4e05",
   "metadata": {},
   "outputs": [
    {
     "name": "stderr",
     "output_type": "stream",
     "text": [
      "/Users/minjeekim/opt/anaconda3/lib/python3.9/site-packages/seaborn/_decorators.py:36: FutureWarning: Pass the following variable as a keyword arg: x. From version 0.12, the only valid positional argument will be `data`, and passing other arguments without an explicit keyword will result in an error or misinterpretation.\n",
      "  warnings.warn(\n"
     ]
    },
    {
     "data": {
      "text/plain": [
       "<AxesSubplot:xlabel='wind_speed'>"
      ]
     },
     "execution_count": 148,
     "metadata": {},
     "output_type": "execute_result"
    },
    {
     "data": {
      "image/png": "[encoded data removed]",
      "text/plain": [
       "<Figure size 640x480 with 1 Axes>"
      ]
     },
     "metadata": {},
     "output_type": "display_data"
    }
   ],
   "source": [
    "tt = train[train['wind_speed']<12]\n",
    "sns.boxplot(tt['wind_speed'])"
   ]
  },
  {
   "cell_type": "code",
   "execution_count": 149,
   "id": "446df917",
   "metadata": {},
   "outputs": [
    {
     "data": {
      "text/plain": [
       "2.2"
      ]
     },
     "execution_count": 149,
     "metadata": {},
     "output_type": "execute_result"
    }
   ],
   "source": [
    "train['wind_speed'].median()"
   ]
  },
  {
   "cell_type": "code",
   "execution_count": 150,
   "id": "5c9ea865",
   "metadata": {},
   "outputs": [
    {
     "data": {
      "text/plain": [
       "2.2"
      ]
     },
     "execution_count": 150,
     "metadata": {},
     "output_type": "execute_result"
    }
   ],
   "source": [
    "tt['wind_speed'].median()"
   ]
  },
  {
   "cell_type": "code",
   "execution_count": 151,
   "id": "21e4af66",
   "metadata": {},
   "outputs": [
    {
     "data": {
      "text/plain": [
       "count    19272.000000\n",
       "mean         2.474533\n",
       "std          1.342002\n",
       "min          0.000000\n",
       "25%          1.400000\n",
       "50%          2.200000\n",
       "75%          3.200000\n",
       "max         10.200000\n",
       "Name: wind_speed, dtype: float64"
      ]
     },
     "execution_count": 151,
     "metadata": {},
     "output_type": "execute_result"
    }
   ],
   "source": [
    "tt['wind_speed'].describe()"
   ]
  },
  {
   "cell_type": "code",
   "execution_count": 152,
   "id": "87d70c62",
   "metadata": {},
   "outputs": [
    {
     "data": {
      "text/plain": [
       "count    19275.000000\n",
       "mean         2.476970\n",
       "std          1.359942\n",
       "min          0.000000\n",
       "25%          1.400000\n",
       "50%          2.200000\n",
       "75%          3.200000\n",
       "max         29.800000\n",
       "Name: wind_speed, dtype: float64"
      ]
     },
     "execution_count": 152,
     "metadata": {},
     "output_type": "execute_result"
    }
   ],
   "source": [
    "train['wind_speed'].describe()"
   ]
  },
  {
   "cell_type": "code",
   "execution_count": 153,
   "id": "8ee98d69",
   "metadata": {},
   "outputs": [
    {
     "name": "stderr",
     "output_type": "stream",
     "text": [
      "/Users/minjeekim/opt/anaconda3/lib/python3.9/site-packages/seaborn/_decorators.py:36: FutureWarning: Pass the following variable as a keyword arg: x. From version 0.12, the only valid positional argument will be `data`, and passing other arguments without an explicit keyword will result in an error or misinterpretation.\n",
      "  warnings.warn(\n"
     ]
    },
    {
     "data": {
      "text/plain": [
       "<AxesSubplot:xlabel='wind_speed'>"
      ]
     },
     "execution_count": 153,
     "metadata": {},
     "output_type": "execute_result"
    },
    {
     "data": {
      "image/png": "[encoded data removed]",
      "text/plain": [
       "<Figure size 640x480 with 1 Axes>"
      ]
     },
     "metadata": {},
     "output_type": "display_data"
    }
   ],
   "source": [
    "tt = train[train['wind_speed']<8]\n",
    "sns.boxplot(tt['wind_speed'])"
   ]
  },
  {
   "cell_type": "code",
   "execution_count": 154,
   "id": "98077a4e",
   "metadata": {},
   "outputs": [
    {
     "data": {
      "text/plain": [
       "count    19201.000000\n",
       "mean         2.452091\n",
       "std          1.292198\n",
       "min          0.000000\n",
       "25%          1.400000\n",
       "50%          2.200000\n",
       "75%          3.200000\n",
       "max          7.800000\n",
       "Name: wind_speed, dtype: float64"
      ]
     },
     "execution_count": 154,
     "metadata": {},
     "output_type": "execute_result"
    }
   ],
   "source": [
    "tt['wind_speed'].describe()"
   ]
  },
  {
   "cell_type": "code",
   "execution_count": null,
   "id": "bcefdb90",
   "metadata": {},
   "outputs": [],
   "source": []
  }
 ],
 "metadata": {
  "kernelspec": {
   "display_name": "Python 3 (ipykernel)",
   "language": "python",
   "name": "python3"
  },
  "language_info": {
   "codemirror_mode": {
    "name": "ipython",
    "version": 3
   },
   "file_extension": ".py",
   "mimetype": "text/x-python",
   "name": "python",
   "nbconvert_exporter": "python",
   "pygments_lexer": "ipython3",
   "version": "3.9.13"
  }
 },
 "nbformat": 4,
 "nbformat_minor": 5
}
